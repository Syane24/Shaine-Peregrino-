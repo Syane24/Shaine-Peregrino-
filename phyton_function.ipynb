{
  "nbformat": 4,
  "nbformat_minor": 0,
  "metadata": {
    "colab": {
      "name": "phyton_function.ipynb",
      "provenance": [],
      "authorship_tag": "ABX9TyPu+LQd08xOJ/ujbUwDZ9cE",
      "include_colab_link": true
    },
    "kernelspec": {
      "name": "python3",
      "display_name": "Python 3"
    },
    "language_info": {
      "name": "python"
    }
  },
  "cells": [
    {
      "cell_type": "markdown",
      "metadata": {
        "id": "view-in-github",
        "colab_type": "text"
      },
      "source": [
        "<a href=\"https://colab.research.google.com/github/Syane24/Shaine-Peregrino-/blob/main/phyton_function.ipynb\" target=\"_parent\"><img src=\"https://colab.research.google.com/assets/colab-badge.svg\" alt=\"Open In Colab\"/></a>"
      ]
    },
    {
      "cell_type": "code",
      "metadata": {
        "colab": {
          "base_uri": "https://localhost:8080/"
        },
        "id": "MP34dtuqNbgJ",
        "outputId": "69c8cf53-593e-47ba-9dfa-f4ab488e8add"
      },
      "source": [
        "def sum(i1, i2):\n",
        "    result = 0\n",
        "    for i in range(i1, i2):\n",
        "        result += i\n",
        "    return result\n",
        "\n",
        "def main():\n",
        "    print(\"Sum from 1 to 20 is\", sum(1, 21)) \n",
        "    print(\"Sum from 36 to 55 is\", sum(36, 56))\n",
        "    print(\"Sum from 57 to 65 is\", sum(57, 66))\n",
        "\n",
        "main() # Call the main function"
      ],
      "execution_count": 5,
      "outputs": [
        {
          "output_type": "stream",
          "name": "stdout",
          "text": [
            "Sum from 1 to 20 is 210\n",
            "Sum from 36 to 55 is 910\n",
            "Sum from 57 to 65 is 549\n"
          ]
        }
      ]
    },
    {
      "cell_type": "code",
      "metadata": {
        "colab": {
          "base_uri": "https://localhost:8080/"
        },
        "id": "kao9Af0QSFX5",
        "outputId": "adb77004-45c1-4195-d0c2-36cdb4199024"
      },
      "source": [
        "def sum(i1, i2, i3):\n",
        "    result = 0\n",
        "    for i in range(i1, i2):\n",
        "        result += i\n",
        "    return result\n",
        "\n",
        "def main():\n",
        "    print(\"Sum from 1 to 15 is\", sum(1, 16, 2)) \n",
        "    print(\"Sum from 20 to 35 is\", sum(20, 36, 3))\n",
        "    print(\"Sum from 40 to 65 is\", sum(40, 66, 5))\n",
        "\n",
        "main() # Call the main function"
      ],
      "execution_count": 20,
      "outputs": [
        {
          "output_type": "stream",
          "name": "stdout",
          "text": [
            "Sum from 1 to 15 is 120\n",
            "Sum from 20 to 35 is 440\n",
            "Sum from 40 to 65 is 1365\n"
          ]
        }
      ]
    },
    {
      "cell_type": "code",
      "metadata": {
        "colab": {
          "base_uri": "https://localhost:8080/"
        },
        "id": "TwDeSsGhUiOA",
        "outputId": "e3b77115-b895-4903-dbb2-80bca5de2c04"
      },
      "source": [
        "def sum(i1,i2,i3):\n",
        "    result = 0\n",
        "    for i in range(i1,i2,i3):\n",
        "        result += i\n",
        "    return result\n",
        "\n",
        "def main():\n",
        "    print(\"Sum1 \", sum(1, 16 ,2)) \n",
        "    print(\"Sum2 \", sum(20, 36 ,3))\n",
        "    print(\"Sum3 \", sum(40, 66,5))\n",
        "\n",
        "main() # Call the main function"
      ],
      "execution_count": 34,
      "outputs": [
        {
          "output_type": "stream",
          "name": "stdout",
          "text": [
            "Sum1  64\n",
            "Sum2  165\n",
            "Sum3  315\n"
          ]
        }
      ]
    },
    {
      "cell_type": "code",
      "metadata": {
        "colab": {
          "base_uri": "https://localhost:8080/"
        },
        "id": "I_zWBssIXeHW",
        "outputId": "c3899a80-76a9-4aee-a846-12b71b84786c"
      },
      "source": [
        "def swap(x,y):\n",
        "  x,y = y,x\n",
        "  return (x,y)\n",
        "\n",
        "if __name__ == '__main__':\n",
        "    x = 16\n",
        "    y = 24\n",
        "    print('x = %d,y = %d' % (x,y))\n",
        "    x,y = swap(x,y)\n",
        "    print('x = %d,y = %d' % (x,y))"
      ],
      "execution_count": 43,
      "outputs": [
        {
          "output_type": "stream",
          "name": "stdout",
          "text": [
            "x = 16,y = 24\n",
            "x = 24,y = 16\n"
          ]
        }
      ]
    },
    {
      "cell_type": "code",
      "metadata": {
        "colab": {
          "base_uri": "https://localhost:8080/"
        },
        "id": "9mdyuwX5ZGwE",
        "outputId": "0f92dd30-6086-4328-d5fe-bab1cc7feab0"
      },
      "source": [
        "def sort(number1, number2, number3):\n",
        "    if (number1 < number2) and (number1 < number3):\n",
        "      if number2 < number3:\n",
        "        return number1, number2,number3\n",
        "      else:\n",
        "        return number1, number3,number2\n",
        "    if (number2 < number1) and (number2 < number3):\n",
        "      if number1 < number3:\n",
        "        return number2, number1,number3\n",
        "      else:\n",
        "        return number2, number3,number1    \n",
        "    if (number3 < number1) and (number3 < number2):\n",
        "      if number1 < number2:\n",
        "        return number3, number1,number2\n",
        "      else:\n",
        "        return number3, number2,number1 \n",
        "\n",
        "num1, num2, num3  = sort(4,28,32)\n",
        "\n",
        "print(\"num1 is\", num1)\n",
        "print(\"num2 is\", num2)\n",
        "print(\"num2 is\", num3)"
      ],
      "execution_count": 31,
      "outputs": [
        {
          "output_type": "stream",
          "name": "stdout",
          "text": [
            "num1 is 4\n",
            "num2 is 28\n",
            "num2 is 32\n"
          ]
        }
      ]
    },
    {
      "cell_type": "code",
      "metadata": {
        "id": "7JclbnDld7BB"
      },
      "source": [
        "#!/usr/bin/python \n",
        "#-*-coding: UTF-8 -*- \n",
        "\n",
        "def printArea(width = 15, height = 11):\n",
        "    area = width * height\n",
        "    print (\"width:\", width, \"\\theight:\", height, \"\\tarea:\", area)"
      ],
      "execution_count": 54,
      "outputs": []
    },
    {
      "cell_type": "markdown",
      "metadata": {
        "id": "NSef3nE9g5EA"
      },
      "source": [
        "use default arguments"
      ]
    },
    {
      "cell_type": "code",
      "metadata": {
        "colab": {
          "base_uri": "https://localhost:8080/"
        },
        "id": "cb9TKNcBg58t",
        "outputId": "e97f32b2-d3e3-425d-fadc-e3fbfd144493"
      },
      "source": [
        "printArea()"
      ],
      "execution_count": 52,
      "outputs": [
        {
          "output_type": "stream",
          "name": "stdout",
          "text": [
            "width: 15 \theight: 11 \tarea: 165\n"
          ]
        }
      ]
    },
    {
      "cell_type": "markdown",
      "metadata": {
        "id": "_koLjax9g_1V"
      },
      "source": [
        "Use Keyword arguments"
      ]
    },
    {
      "cell_type": "code",
      "metadata": {
        "colab": {
          "base_uri": "https://localhost:8080/"
        },
        "id": "_N1kA00RhHUl",
        "outputId": "a3ea689f-b2ca-4600-8736-56714ab4339c"
      },
      "source": [
        "printArea(width = 12, height = 8)"
      ],
      "execution_count": 55,
      "outputs": [
        {
          "output_type": "stream",
          "name": "stdout",
          "text": [
            "width: 12 \theight: 8 \tarea: 96\n"
          ]
        }
      ]
    },
    {
      "cell_type": "code",
      "metadata": {
        "colab": {
          "base_uri": "https://localhost:8080/"
        },
        "id": "1Yr-OWaQhVVN",
        "outputId": "88a56cd8-fb38-4e9c-88e4-18cd7e0a5f07"
      },
      "source": [
        "printArea(height = 8, width = 12)"
      ],
      "execution_count": 56,
      "outputs": [
        {
          "output_type": "stream",
          "name": "stdout",
          "text": [
            "width: 12 \theight: 8 \tarea: 96\n"
          ]
        }
      ]
    },
    {
      "cell_type": "markdown",
      "metadata": {
        "id": "rf1gW4HHhbaJ"
      },
      "source": [
        "Use Positional arguments"
      ]
    },
    {
      "cell_type": "code",
      "metadata": {
        "colab": {
          "base_uri": "https://localhost:8080/"
        },
        "id": "nPBri8RrhheA",
        "outputId": "87d7508c-0c16-4d76-803d-9529d18e82c3"
      },
      "source": [
        "printArea(12,8)"
      ],
      "execution_count": 57,
      "outputs": [
        {
          "output_type": "stream",
          "name": "stdout",
          "text": [
            "width: 12 \theight: 8 \tarea: 96\n"
          ]
        }
      ]
    },
    {
      "cell_type": "code",
      "metadata": {
        "colab": {
          "base_uri": "https://localhost:8080/"
        },
        "id": "alzabo0ChtVG",
        "outputId": "49b1c856-5d96-41af-8338-c3c6e174eb26"
      },
      "source": [
        "printArea(8,12)"
      ],
      "execution_count": 58,
      "outputs": [
        {
          "output_type": "stream",
          "name": "stdout",
          "text": [
            "width: 8 \theight: 12 \tarea: 96\n"
          ]
        }
      ]
    }
  ]
}