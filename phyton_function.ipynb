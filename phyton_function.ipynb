{
  "nbformat": 4,
  "nbformat_minor": 0,
  "metadata": {
    "colab": {
      "name": "phyton_function.ipynb",
      "provenance": [],
      "authorship_tag": "ABX9TyOOeBTMrBIpy9NkVkP387et",
      "include_colab_link": true
    },
    "kernelspec": {
      "name": "python3",
      "display_name": "Python 3"
    },
    "language_info": {
      "name": "python"
    }
  },
  "cells": [
    {
      "cell_type": "markdown",
      "metadata": {
        "id": "view-in-github",
        "colab_type": "text"
      },
      "source": [
        "<a href=\"https://colab.research.google.com/github/Syane24/Shaine-Peregrino-/blob/main/phyton_function.ipynb\" target=\"_parent\"><img src=\"https://colab.research.google.com/assets/colab-badge.svg\" alt=\"Open In Colab\"/></a>"
      ]
    },
    {
      "cell_type": "code",
      "metadata": {
        "colab": {
          "base_uri": "https://localhost:8080/"
        },
        "id": "MP34dtuqNbgJ",
        "outputId": "69c8cf53-593e-47ba-9dfa-f4ab488e8add"
      },
      "source": [
        "def sum(i1, i2):\n",
        "    result = 0\n",
        "    for i in range(i1, i2):\n",
        "        result += i\n",
        "    return result\n",
        "\n",
        "def main():\n",
        "    print(\"Sum from 1 to 20 is\", sum(1, 21)) \n",
        "    print(\"Sum from 36 to 55 is\", sum(36, 56))\n",
        "    print(\"Sum from 57 to 65 is\", sum(57, 66))\n",
        "\n",
        "main() # Call the main function"
      ],
      "execution_count": 5,
      "outputs": [
        {
          "output_type": "stream",
          "name": "stdout",
          "text": [
            "Sum from 1 to 20 is 210\n",
            "Sum from 36 to 55 is 910\n",
            "Sum from 57 to 65 is 549\n"
          ]
        }
      ]
    },
    {
      "cell_type": "code",
      "metadata": {
        "colab": {
          "base_uri": "https://localhost:8080/"
        },
        "id": "kao9Af0QSFX5",
        "outputId": "adb77004-45c1-4195-d0c2-36cdb4199024"
      },
      "source": [
        "def sum(i1, i2, i3):\n",
        "    result = 0\n",
        "    for i in range(i1, i2):\n",
        "        result += i\n",
        "    return result\n",
        "\n",
        "def main():\n",
        "    print(\"Sum from 1 to 15 is\", sum(1, 16, 2)) \n",
        "    print(\"Sum from 20 to 35 is\", sum(20, 36, 3))\n",
        "    print(\"Sum from 40 to 65 is\", sum(40, 66, 5))\n",
        "\n",
        "main() # Call the main function"
      ],
      "execution_count": 20,
      "outputs": [
        {
          "output_type": "stream",
          "name": "stdout",
          "text": [
            "Sum from 1 to 15 is 120\n",
            "Sum from 20 to 35 is 440\n",
            "Sum from 40 to 65 is 1365\n"
          ]
        }
      ]
    },
    {
      "cell_type": "code",
      "metadata": {
        "colab": {
          "base_uri": "https://localhost:8080/"
        },
        "id": "TwDeSsGhUiOA",
        "outputId": "e3b77115-b895-4903-dbb2-80bca5de2c04"
      },
      "source": [
        "def sum(i1,i2,i3):\n",
        "    result = 0\n",
        "    for i in range(i1,i2,i3):\n",
        "        result += i\n",
        "    return result\n",
        "\n",
        "def main():\n",
        "    print(\"Sum1 \", sum(1, 16 ,2)) \n",
        "    print(\"Sum2 \", sum(20, 36 ,3))\n",
        "    print(\"Sum3 \", sum(40, 66,5))\n",
        "\n",
        "main() # Call the main function"
      ],
      "execution_count": 34,
      "outputs": [
        {
          "output_type": "stream",
          "name": "stdout",
          "text": [
            "Sum1  64\n",
            "Sum2  165\n",
            "Sum3  315\n"
          ]
        }
      ]
    },
    {
      "cell_type": "code",
      "metadata": {
        "colab": {
          "base_uri": "https://localhost:8080/"
        },
        "id": "I_zWBssIXeHW",
        "outputId": "1431eb4a-5203-4451-9672-00674fd061d3"
      },
      "source": [
        "def swap(x,y):\n",
        "  x,y = x,y\n",
        "  return (x,y)\n",
        "\n",
        "if __name__ == '__main__':\n",
        "    x = 16\n",
        "    y = 24\n",
        "    print('x = %d,y = %d' % (x,y))\n",
        "    x,y = swap(x,y)\n",
        "    print('x = %d,y = %d' % (x,y))"
      ],
      "execution_count": 42,
      "outputs": [
        {
          "output_type": "stream",
          "name": "stdout",
          "text": [
            "x = 16,y = 24\n",
            "x = 16,y = 24\n"
          ]
        }
      ]
    },
    {
      "cell_type": "code",
      "metadata": {
        "colab": {
          "base_uri": "https://localhost:8080/"
        },
        "id": "9mdyuwX5ZGwE",
        "outputId": "0f92dd30-6086-4328-d5fe-bab1cc7feab0"
      },
      "source": [
        "def sort(number1, number2, number3):\n",
        "    if (number1 < number2) and (number1 < number3):\n",
        "      if number2 < number3:\n",
        "        return number1, number2,number3\n",
        "      else:\n",
        "        return number1, number3,number2\n",
        "    if (number2 < number1) and (number2 < number3):\n",
        "      if number1 < number3:\n",
        "        return number2, number1,number3\n",
        "      else:\n",
        "        return number2, number3,number1    \n",
        "    if (number3 < number1) and (number3 < number2):\n",
        "      if number1 < number2:\n",
        "        return number3, number1,number2\n",
        "      else:\n",
        "        return number3, number2,number1 \n",
        "\n",
        "num1, num2, num3  = sort(4,28,32)\n",
        "\n",
        "print(\"num1 is\", num1)\n",
        "print(\"num2 is\", num2)\n",
        "print(\"num2 is\", num3)"
      ],
      "execution_count": 31,
      "outputs": [
        {
          "output_type": "stream",
          "name": "stdout",
          "text": [
            "num1 is 4\n",
            "num2 is 28\n",
            "num2 is 32\n"
          ]
        }
      ]
    }
  ]
}